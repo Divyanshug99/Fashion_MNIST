{
 "cells": [
  {
   "cell_type": "code",
   "execution_count": 1,
   "metadata": {
    "_cell_guid": "b1076dfc-b9ad-4769-8c92-a6c4dae69d19",
    "_uuid": "8f2839f25d086af736a60e9eeb907d3b93b6e0e5"
   },
   "outputs": [
    {
     "name": "stdout",
     "output_type": "stream",
     "text": [
      "['testX.pickle', 'trainY.pickle', 'trainX.pickle']\n"
     ]
    }
   ],
   "source": [
    "import os\n",
    "print(os.listdir(\"../input\"))"
   ]
  },
  {
   "cell_type": "code",
   "execution_count": 2,
   "metadata": {
    "_cell_guid": "79c7e3d0-c299-4dcb-8224-4455121ee9b0",
    "_uuid": "d629ff2d2480ee46fbb7e2d37f6b5fab8052498a"
   },
   "outputs": [
    {
     "name": "stderr",
     "output_type": "stream",
     "text": [
      "Using TensorFlow backend.\n"
     ]
    }
   ],
   "source": [
    "from __future__ import print_function\n",
    "import keras\n",
    "from keras.datasets import mnist\n",
    "from keras.models import Sequential\n",
    "from keras.layers import Dense,Dropout,Flatten,Activation\n",
    "from keras import backend as K\n",
    "import numpy as np\n",
    "import pandas as pd\n",
    "import matplotlib.pyplot as plt"
   ]
  },
  {
   "cell_type": "code",
   "execution_count": 3,
   "metadata": {},
   "outputs": [],
   "source": [
    "data=pd.read_pickle(\"../input/trainX.pickle\")\n",
    "label=pd.read_pickle(\"../input/trainY.pickle\")\n",
    "test=pd.read_pickle(\"../input/testX.pickle\")"
   ]
  },
  {
   "cell_type": "code",
   "execution_count": 4,
   "metadata": {},
   "outputs": [
    {
     "data": {
      "text/plain": [
       "array([[[0, 0, 0, ..., 0, 0, 0],\n",
       "        [0, 0, 0, ..., 0, 0, 0],\n",
       "        [0, 0, 0, ..., 0, 0, 0],\n",
       "        ...,\n",
       "        [0, 0, 0, ..., 0, 0, 0],\n",
       "        [0, 0, 0, ..., 0, 0, 0],\n",
       "        [0, 0, 0, ..., 0, 0, 0]],\n",
       "\n",
       "       [[0, 0, 0, ..., 0, 0, 0],\n",
       "        [0, 0, 0, ..., 0, 0, 0],\n",
       "        [0, 0, 0, ..., 0, 0, 0],\n",
       "        ...,\n",
       "        [0, 0, 0, ..., 0, 0, 0],\n",
       "        [0, 0, 0, ..., 0, 0, 0],\n",
       "        [0, 0, 0, ..., 0, 0, 0]],\n",
       "\n",
       "       [[0, 0, 0, ..., 0, 0, 0],\n",
       "        [0, 0, 0, ..., 0, 0, 0],\n",
       "        [0, 0, 0, ..., 0, 0, 0],\n",
       "        ...,\n",
       "        [0, 0, 0, ..., 0, 0, 0],\n",
       "        [0, 0, 0, ..., 0, 0, 0],\n",
       "        [0, 0, 0, ..., 0, 0, 0]],\n",
       "\n",
       "       ...,\n",
       "\n",
       "       [[0, 0, 0, ..., 0, 0, 0],\n",
       "        [0, 0, 0, ..., 0, 0, 0],\n",
       "        [0, 0, 0, ..., 0, 0, 0],\n",
       "        ...,\n",
       "        [0, 0, 0, ..., 0, 0, 0],\n",
       "        [0, 0, 0, ..., 0, 0, 0],\n",
       "        [0, 0, 0, ..., 0, 0, 0]],\n",
       "\n",
       "       [[0, 0, 0, ..., 0, 0, 0],\n",
       "        [0, 0, 0, ..., 0, 0, 0],\n",
       "        [0, 0, 0, ..., 0, 0, 0],\n",
       "        ...,\n",
       "        [0, 0, 0, ..., 0, 0, 0],\n",
       "        [0, 0, 0, ..., 0, 0, 0],\n",
       "        [0, 0, 0, ..., 0, 0, 0]],\n",
       "\n",
       "       [[0, 0, 0, ..., 0, 0, 0],\n",
       "        [0, 0, 0, ..., 0, 0, 0],\n",
       "        [0, 0, 0, ..., 0, 0, 0],\n",
       "        ...,\n",
       "        [0, 0, 0, ..., 0, 0, 0],\n",
       "        [0, 0, 0, ..., 0, 0, 0],\n",
       "        [0, 0, 0, ..., 0, 0, 0]]], dtype=uint8)"
      ]
     },
     "execution_count": 4,
     "metadata": {},
     "output_type": "execute_result"
    }
   ],
   "source": [
    "data"
   ]
  },
  {
   "cell_type": "code",
   "execution_count": 5,
   "metadata": {},
   "outputs": [
    {
     "data": {
      "text/plain": [
       "array([9, 0, 0, ..., 3, 0, 5], dtype=uint8)"
      ]
     },
     "execution_count": 5,
     "metadata": {},
     "output_type": "execute_result"
    }
   ],
   "source": [
    "label"
   ]
  },
  {
   "cell_type": "code",
   "execution_count": 6,
   "metadata": {},
   "outputs": [
    {
     "data": {
      "text/plain": [
       "10"
      ]
     },
     "execution_count": 6,
     "metadata": {},
     "output_type": "execute_result"
    }
   ],
   "source": [
    "len(set(label))"
   ]
  },
  {
   "cell_type": "code",
   "execution_count": 7,
   "metadata": {},
   "outputs": [
    {
     "data": {
      "text/plain": [
       "{0, 1, 2, 3, 4, 5, 6, 7, 8, 9}"
      ]
     },
     "execution_count": 7,
     "metadata": {},
     "output_type": "execute_result"
    }
   ],
   "source": [
    "set(label)"
   ]
  },
  {
   "cell_type": "code",
   "execution_count": 8,
   "metadata": {},
   "outputs": [
    {
     "name": "stdout",
     "output_type": "stream",
     "text": [
      "9\n"
     ]
    },
    {
     "data": {
      "image/png": "[encoded data removed]",
      "text/plain": [
       "<Figure size 432x288 with 1 Axes>"
      ]
     },
     "metadata": {
      "needs_background": "light"
     },
     "output_type": "display_data"
    },
    {
     "name": "stdout",
     "output_type": "stream",
     "text": [
      "0\n"
     ]
    },
    {
     "data": {
      "image/png": "[encoded data removed]",
      "text/plain": [
       "<Figure size 432x288 with 1 Axes>"
      ]
     },
     "metadata": {
      "needs_background": "light"
     },
     "output_type": "display_data"
    },
    {
     "name": "stdout",
     "output_type": "stream",
     "text": [
      "0\n"
     ]
    },
    {
     "data": {
      "image/png": "[encoded data removed]",
      "text/plain": [
       "<Figure size 432x288 with 1 Axes>"
      ]
     },
     "metadata": {
      "needs_background": "light"
     },
     "output_type": "display_data"
    },
    {
     "name": "stdout",
     "output_type": "stream",
     "text": [
      "3\n"
     ]
    },
    {
     "data": {
      "image/png": "[encoded data removed]",
      "text/plain": [
       "<Figure size 432x288 with 1 Axes>"
      ]
     },
     "metadata": {
      "needs_background": "light"
     },
     "output_type": "display_data"
    },
    {
     "name": "stdout",
     "output_type": "stream",
     "text": [
      "0\n"
     ]
    },
    {
     "data": {
      "image/png": "[encoded data removed]",
      "text/plain": [
       "<Figure size 432x288 with 1 Axes>"
      ]
     },
     "metadata": {
      "needs_background": "light"
     },
     "output_type": "display_data"
    },
    {
     "name": "stdout",
     "output_type": "stream",
     "text": [
      "2\n"
     ]
    },
    {
     "data": {
      "image/png": "[encoded data removed]",
      "text/plain": [
       "<Figure size 432x288 with 1 Axes>"
      ]
     },
     "metadata": {
      "needs_background": "light"
     },
     "output_type": "display_data"
    },
    {
     "name": "stdout",
     "output_type": "stream",
     "text": [
      "7\n"
     ]
    },
    {
     "data": {
      "image/png": "[encoded data removed]",
      "text/plain": [
       "<Figure size 432x288 with 1 Axes>"
      ]
     },
     "metadata": {
      "needs_background": "light"
     },
     "output_type": "display_data"
    },
    {
     "name": "stdout",
     "output_type": "stream",
     "text": [
      "2\n"
     ]
    },
    {
     "data": {
      "image/png": "[encoded data removed]",
      "text/plain": [
       "<Figure size 432x288 with 1 Axes>"
      ]
     },
     "metadata": {
      "needs_background": "light"
     },
     "output_type": "display_data"
    },
    {
     "name": "stdout",
     "output_type": "stream",
     "text": [
      "5\n"
     ]
    },
    {
     "data": {
      "image/png": "[encoded data removed]",
      "text/plain": [
       "<Figure size 432x288 with 1 Axes>"
      ]
     },
     "metadata": {
      "needs_background": "light"
     },
     "output_type": "display_data"
    },
    {
     "name": "stdout",
     "output_type": "stream",
     "text": [
      "5\n"
     ]
    },
    {
     "data": {
      "image/png": "[encoded data removed]",
      "text/plain": [
       "<Figure size 432x288 with 1 Axes>"
      ]
     },
     "metadata": {
      "needs_background": "light"
     },
     "output_type": "display_data"
    }
   ],
   "source": [
    "for i in range(10):\n",
    "    print(label[i])\n",
    "    plt.imshow(data[i])\n",
    "    plt.show()"
   ]
  },
  {
   "cell_type": "code",
   "execution_count": 9,
   "metadata": {},
   "outputs": [
    {
     "data": {
      "text/plain": [
       "'channels_last'"
      ]
     },
     "execution_count": 9,
     "metadata": {},
     "output_type": "execute_result"
    }
   ],
   "source": [
    "K.image_data_format()"
   ]
  },
  {
   "cell_type": "code",
   "execution_count": 10,
   "metadata": {},
   "outputs": [],
   "source": [
    "size=40000\n",
    "x_train=data[:size]\n",
    "y_train=label[:size]\n",
    "x_test=data[size:]\n",
    "y_test=label[size:]"
   ]
  },
  {
   "cell_type": "code",
   "execution_count": 11,
   "metadata": {},
   "outputs": [],
   "source": [
    "img_rows,img_cols=28,28"
   ]
  },
  {
   "cell_type": "code",
   "execution_count": 12,
   "metadata": {},
   "outputs": [
    {
     "data": {
      "text/plain": [
       "(40000, 28, 28)"
      ]
     },
     "execution_count": 12,
     "metadata": {},
     "output_type": "execute_result"
    }
   ],
   "source": [
    "x_train.shape"
   ]
  },
  {
   "cell_type": "code",
   "execution_count": 13,
   "metadata": {},
   "outputs": [],
   "source": [
    "x_train=x_train.reshape(x_train.shape[0],img_rows,img_cols,1)\n",
    "x_test=x_test.reshape(x_test.shape[0],img_rows,img_cols,1)"
   ]
  },
  {
   "cell_type": "code",
   "execution_count": 14,
   "metadata": {},
   "outputs": [
    {
     "data": {
      "text/plain": [
       "(40000, 28, 28, 1)"
      ]
     },
     "execution_count": 14,
     "metadata": {},
     "output_type": "execute_result"
    }
   ],
   "source": [
    "x_train.shape"
   ]
  },
  {
   "cell_type": "code",
   "execution_count": 15,
   "metadata": {},
   "outputs": [],
   "source": [
    "batch_size=128\n",
    "num_classes=10\n",
    "epochs=10"
   ]
  },
  {
   "cell_type": "code",
   "execution_count": 16,
   "metadata": {},
   "outputs": [
    {
     "name": "stdout",
     "output_type": "stream",
     "text": [
      "x_train shape: (40000, 28, 28, 1)\n",
      "40000 train samples\n",
      "20000 test samples\n"
     ]
    }
   ],
   "source": [
    "x_train=x_train.astype('float32')\n",
    "x_test=x_test.astype('float32')\n",
    "x_train/=255\n",
    "x_test/=255\n",
    "print('x_train shape:',x_train.shape)\n",
    "print(x_train.shape[0],'train samples')\n",
    "print(x_test.shape[0],'test samples')\n",
    "\n",
    "y_train=keras.utils.to_categorical(y_train,num_classes)\n",
    "y_test=keras.utils.to_categorical(y_test,num_classes)"
   ]
  },
  {
   "cell_type": "code",
   "execution_count": 17,
   "metadata": {},
   "outputs": [],
   "source": [
    "x_train=np.reshape(x_train,(size,784))\n",
    "x_test=np.reshape(x_test,(60000-size,784))"
   ]
  },
  {
   "cell_type": "code",
   "execution_count": 18,
   "metadata": {},
   "outputs": [
    {
     "name": "stdout",
     "output_type": "stream",
     "text": [
      "_________________________________________________________________\n",
      "Layer (type)                 Output Shape              Param #   \n",
      "=================================================================\n",
      "dense_1 (Dense)              (None, 500)               392500    \n",
      "_________________________________________________________________\n",
      "activation_1 (Activation)    (None, 500)               0         \n",
      "_________________________________________________________________\n",
      "dropout_1 (Dropout)          (None, 500)               0         \n",
      "_________________________________________________________________\n",
      "dense_2 (Dense)              (None, 300)               150300    \n",
      "_________________________________________________________________\n",
      "activation_2 (Activation)    (None, 300)               0         \n",
      "_________________________________________________________________\n",
      "dropout_2 (Dropout)          (None, 300)               0         \n",
      "_________________________________________________________________\n",
      "dense_3 (Dense)              (None, 10)                3010      \n",
      "_________________________________________________________________\n",
      "activation_3 (Activation)    (None, 10)                0         \n",
      "=================================================================\n",
      "Total params: 545,810\n",
      "Trainable params: 545,810\n",
      "Non-trainable params: 0\n",
      "_________________________________________________________________\n"
     ]
    }
   ],
   "source": [
    "model=Sequential()\n",
    "model.add(Dense(500,input_dim=784),)\n",
    "model.add(Activation('relu'))\n",
    "model.add(Dropout(0.4))\n",
    "model.add(Dense(300))\n",
    "model.add(Activation('relu'))\n",
    "model.add(Dropout(0.4))\n",
    "model.add(Dense(10))\n",
    "model.add(Activation('softmax'))\n",
    "model.summary()\n",
    "model.compile(loss=keras.losses.categorical_crossentropy, optimizer=keras.optimizers.Adadelta(),metrics=['accuracy'])\n"
   ]
  },
  {
   "cell_type": "code",
   "execution_count": 19,
   "metadata": {},
   "outputs": [
    {
     "name": "stdout",
     "output_type": "stream",
     "text": [
      "Train on 40000 samples, validate on 20000 samples\n",
      "Epoch 1/10\n",
      "40000/40000 [==============================] - 5s 116us/step - loss: 0.6965 - acc: 0.7470 - val_loss: 0.5313 - val_acc: 0.7917\n",
      "Epoch 2/10\n",
      "40000/40000 [==============================] - 1s 32us/step - loss: 0.4807 - acc: 0.8259 - val_loss: 0.4644 - val_acc: 0.8273\n",
      "Epoch 3/10\n",
      "40000/40000 [==============================] - 1s 32us/step - loss: 0.4292 - acc: 0.8438 - val_loss: 0.3969 - val_acc: 0.8518\n",
      "Epoch 4/10\n",
      "40000/40000 [==============================] - 1s 32us/step - loss: 0.4044 - acc: 0.8523 - val_loss: 0.3753 - val_acc: 0.8613\n",
      "Epoch 5/10\n",
      "40000/40000 [==============================] - 1s 32us/step - loss: 0.3856 - acc: 0.8592 - val_loss: 0.4149 - val_acc: 0.8484\n",
      "Epoch 6/10\n",
      "40000/40000 [==============================] - 1s 32us/step - loss: 0.3724 - acc: 0.8638 - val_loss: 0.3879 - val_acc: 0.8544\n",
      "Epoch 7/10\n",
      "40000/40000 [==============================] - 1s 32us/step - loss: 0.3541 - acc: 0.8699 - val_loss: 0.3536 - val_acc: 0.8700\n",
      "Epoch 8/10\n",
      "40000/40000 [==============================] - 1s 32us/step - loss: 0.3465 - acc: 0.8721 - val_loss: 0.3451 - val_acc: 0.8743\n",
      "Epoch 9/10\n",
      "40000/40000 [==============================] - 1s 32us/step - loss: 0.3354 - acc: 0.8764 - val_loss: 0.3420 - val_acc: 0.8759\n",
      "Epoch 10/10\n",
      "40000/40000 [==============================] - 1s 32us/step - loss: 0.3277 - acc: 0.8786 - val_loss: 0.3259 - val_acc: 0.8832\n",
      "Test loss: 0.32591200141310694\n",
      "Test accuracy: 0.88325\n"
     ]
    }
   ],
   "source": [
    "model.fit(x_train,y_train,batch_size=batch_size,epochs=epochs,verbose=1,validation_data=(x_test,y_test))\n",
    "score=model.evaluate(x_test,y_test,verbose=0)\n",
    "print('Test loss:',score[0])\n",
    "print('Test accuracy:',score[1])"
   ]
  },
  {
   "cell_type": "code",
   "execution_count": 20,
   "metadata": {},
   "outputs": [],
   "source": [
    "import keras\n",
    "from keras.models import Sequential\n",
    "from keras.layers import Conv2D, Dense, Flatten, MaxPooling2D, Dropout\n",
    "from keras.layers.normalization import BatchNormalization\n",
    "from keras.optimizers import Adam\n",
    "from keras.callbacks import TensorBoard"
   ]
  },
  {
   "cell_type": "code",
   "execution_count": 21,
   "metadata": {},
   "outputs": [],
   "source": [
    "from sklearn.model_selection import train_test_split\n",
    "x_train, x_test, y_train, y_test = train_test_split(data, label, test_size=0.2, random_state=1)"
   ]
  },
  {
   "cell_type": "code",
   "execution_count": 22,
   "metadata": {},
   "outputs": [],
   "source": [
    "x_train = x_train.reshape(x_train.shape[0], *(28, 28, 1))\n",
    "x_test = x_test.reshape(x_test.shape[0], *(28, 28, 1))"
   ]
  },
  {
   "cell_type": "code",
   "execution_count": 23,
   "metadata": {},
   "outputs": [
    {
     "name": "stdout",
     "output_type": "stream",
     "text": [
      "(48000, 28, 28, 1)\n",
      "(48000,)\n"
     ]
    }
   ],
   "source": [
    "print(x_train.shape)\n",
    "print(y_train.shape)"
   ]
  },
  {
   "cell_type": "code",
   "execution_count": 24,
   "metadata": {},
   "outputs": [
    {
     "name": "stdout",
     "output_type": "stream",
     "text": [
      "x_train shape: (48000, 28, 28, 1)\n",
      "48000 train samples\n",
      "12000 test samples\n"
     ]
    }
   ],
   "source": [
    "x_train=x_train.astype('float32')\n",
    "x_test=x_test.astype('float32')\n",
    "x_train/=255\n",
    "x_test/=255\n",
    "print('x_train shape:',x_train.shape)\n",
    "print(x_train.shape[0],'train samples')\n",
    "print(x_test.shape[0],'test samples')\n",
    "\n",
    "y_train=keras.utils.to_categorical(y_train,num_classes)\n",
    "y_test=keras.utils.to_categorical(y_test,num_classes)"
   ]
  },
  {
   "cell_type": "code",
   "execution_count": 25,
   "metadata": {},
   "outputs": [
    {
     "name": "stdout",
     "output_type": "stream",
     "text": [
      "(48000, 28, 28, 1)\n",
      "(48000, 10)\n"
     ]
    }
   ],
   "source": [
    "print(x_train.shape)\n",
    "print(y_train.shape)"
   ]
  },
  {
   "cell_type": "code",
   "execution_count": 27,
   "metadata": {},
   "outputs": [],
   "source": [
    "img_rows, img_cols = 28, 28\n",
    "input_shape = (img_rows, img_cols, 1)\n",
    "batch_size = 256\n",
    "num_classes = 10\n",
    "epochs = 50\n",
    "chanDim=-1"
   ]
  },
  {
   "cell_type": "markdown",
   "metadata": {},
   "source": [
    "# CNN"
   ]
  },
  {
   "cell_type": "code",
   "execution_count": 28,
   "metadata": {},
   "outputs": [
    {
     "name": "stdout",
     "output_type": "stream",
     "text": [
      "_________________________________________________________________\n",
      "Layer (type)                 Output Shape              Param #   \n",
      "=================================================================\n",
      "conv2d_1 (Conv2D)            (None, 28, 28, 32)        320       \n",
      "_________________________________________________________________\n",
      "activation_4 (Activation)    (None, 28, 28, 32)        0         \n",
      "_________________________________________________________________\n",
      "batch_normalization_1 (Batch (None, 28, 28, 32)        128       \n",
      "_________________________________________________________________\n",
      "conv2d_2 (Conv2D)            (None, 28, 28, 32)        9248      \n",
      "_________________________________________________________________\n",
      "activation_5 (Activation)    (None, 28, 28, 32)        0         \n",
      "_________________________________________________________________\n",
      "batch_normalization_2 (Batch (None, 28, 28, 32)        128       \n",
      "_________________________________________________________________\n",
      "max_pooling2d_1 (MaxPooling2 (None, 14, 14, 32)        0         \n",
      "_________________________________________________________________\n",
      "dropout_3 (Dropout)          (None, 14, 14, 32)        0         \n",
      "_________________________________________________________________\n",
      "conv2d_3 (Conv2D)            (None, 14, 14, 64)        18496     \n",
      "_________________________________________________________________\n",
      "activation_6 (Activation)    (None, 14, 14, 64)        0         \n",
      "_________________________________________________________________\n",
      "batch_normalization_3 (Batch (None, 14, 14, 64)        256       \n",
      "_________________________________________________________________\n",
      "conv2d_4 (Conv2D)            (None, 14, 14, 64)        36928     \n",
      "_________________________________________________________________\n",
      "activation_7 (Activation)    (None, 14, 14, 64)        0         \n",
      "_________________________________________________________________\n",
      "batch_normalization_4 (Batch (None, 14, 14, 64)        256       \n",
      "_________________________________________________________________\n",
      "max_pooling2d_2 (MaxPooling2 (None, 7, 7, 64)          0         \n",
      "_________________________________________________________________\n",
      "dropout_4 (Dropout)          (None, 7, 7, 64)          0         \n",
      "_________________________________________________________________\n",
      "flatten_1 (Flatten)          (None, 3136)              0         \n",
      "_________________________________________________________________\n",
      "dense_4 (Dense)              (None, 512)               1606144   \n",
      "_________________________________________________________________\n",
      "activation_8 (Activation)    (None, 512)               0         \n",
      "_________________________________________________________________\n",
      "batch_normalization_5 (Batch (None, 512)               2048      \n",
      "_________________________________________________________________\n",
      "dropout_5 (Dropout)          (None, 512)               0         \n",
      "_________________________________________________________________\n",
      "dense_5 (Dense)              (None, 10)                5130      \n",
      "_________________________________________________________________\n",
      "activation_9 (Activation)    (None, 10)                0         \n",
      "=================================================================\n",
      "Total params: 1,679,082\n",
      "Trainable params: 1,677,674\n",
      "Non-trainable params: 1,408\n",
      "_________________________________________________________________\n"
     ]
    }
   ],
   "source": [
    "model = Sequential()\n",
    "model.add(Conv2D(32, (3, 3), padding=\"same\",input_shape=input_shape))\n",
    "model.add(Activation(\"relu\"))\n",
    "model.add(BatchNormalization(axis=chanDim))\n",
    "model.add(Conv2D(32, (3, 3), padding=\"same\"))\n",
    "model.add(Activation(\"relu\"))\n",
    "model.add(BatchNormalization(axis=chanDim))\n",
    "model.add(MaxPooling2D(pool_size=(2, 2)))\n",
    "model.add(Dropout(0.25))\n",
    "\n",
    "model.add(Conv2D(64, (3, 3), padding=\"same\"))\n",
    "model.add(Activation(\"relu\"))\n",
    "model.add(BatchNormalization(axis=chanDim))\n",
    "model.add(Conv2D(64, (3, 3), padding=\"same\"))\n",
    "model.add(Activation(\"relu\"))\n",
    "model.add(BatchNormalization(axis=chanDim))\n",
    "model.add(MaxPooling2D(pool_size=(2, 2)))\n",
    "model.add(Dropout(0.25))\n",
    "\n",
    "model.add(Flatten())\n",
    "model.add(Dense(512))\n",
    "model.add(Activation(\"relu\"))\n",
    "model.add(BatchNormalization())\n",
    "model.add(Dropout(0.5))\n",
    "\n",
    "# softmax classifier\n",
    "model.add(Dense(10))\n",
    "model.add(Activation(\"softmax\"))\n",
    "model.compile(loss=keras.losses.categorical_crossentropy,optimizer=keras.optimizers.Adam(),metrics=['accuracy'])\n",
    "model.summary()"
   ]
  },
  {
   "cell_type": "code",
   "execution_count": 29,
   "metadata": {},
   "outputs": [
    {
     "name": "stdout",
     "output_type": "stream",
     "text": [
      "Train on 48000 samples, validate on 12000 samples\n",
      "Epoch 1/50\n",
      "48000/48000 [==============================] - 7s 154us/step - loss: 0.5247 - acc: 0.8244 - val_loss: 0.3459 - val_acc: 0.8744\n",
      "Epoch 2/50\n",
      "48000/48000 [==============================] - 3s 73us/step - loss: 0.3273 - acc: 0.8823 - val_loss: 0.2640 - val_acc: 0.9018\n",
      "Epoch 3/50\n",
      "48000/48000 [==============================] - 3s 72us/step - loss: 0.2723 - acc: 0.9014 - val_loss: 0.2337 - val_acc: 0.9138\n",
      "Epoch 4/50\n",
      "48000/48000 [==============================] - 3s 72us/step - loss: 0.2415 - acc: 0.9118 - val_loss: 0.2348 - val_acc: 0.9151\n",
      "Epoch 5/50\n",
      "48000/48000 [==============================] - 3s 72us/step - loss: 0.2256 - acc: 0.9174 - val_loss: 0.2134 - val_acc: 0.9236\n",
      "Epoch 6/50\n",
      "48000/48000 [==============================] - 3s 72us/step - loss: 0.2089 - acc: 0.9225 - val_loss: 0.2016 - val_acc: 0.9273\n",
      "Epoch 7/50\n",
      "48000/48000 [==============================] - 3s 72us/step - loss: 0.1953 - acc: 0.9286 - val_loss: 0.1951 - val_acc: 0.9292\n",
      "Epoch 8/50\n",
      "48000/48000 [==============================] - 3s 72us/step - loss: 0.1828 - acc: 0.9325 - val_loss: 0.2227 - val_acc: 0.9228\n",
      "Epoch 9/50\n",
      "48000/48000 [==============================] - 3s 72us/step - loss: 0.1714 - acc: 0.9369 - val_loss: 0.1915 - val_acc: 0.9350\n",
      "Epoch 10/50\n",
      "48000/48000 [==============================] - 3s 72us/step - loss: 0.1670 - acc: 0.9389 - val_loss: 0.1813 - val_acc: 0.9347\n",
      "Epoch 11/50\n",
      "48000/48000 [==============================] - 3s 72us/step - loss: 0.1584 - acc: 0.9416 - val_loss: 0.2198 - val_acc: 0.9260\n",
      "Epoch 12/50\n",
      "48000/48000 [==============================] - 3s 72us/step - loss: 0.1503 - acc: 0.9436 - val_loss: 0.1889 - val_acc: 0.9337\n",
      "Epoch 13/50\n",
      "48000/48000 [==============================] - 3s 72us/step - loss: 0.1441 - acc: 0.9467 - val_loss: 0.2053 - val_acc: 0.9319\n",
      "Epoch 14/50\n",
      "48000/48000 [==============================] - 4s 74us/step - loss: 0.1361 - acc: 0.9490 - val_loss: 0.1900 - val_acc: 0.9371\n",
      "Epoch 15/50\n",
      "48000/48000 [==============================] - 3s 73us/step - loss: 0.1299 - acc: 0.9508 - val_loss: 0.1757 - val_acc: 0.9413\n",
      "Epoch 16/50\n",
      "48000/48000 [==============================] - 3s 72us/step - loss: 0.1213 - acc: 0.9543 - val_loss: 0.1857 - val_acc: 0.9396\n",
      "Epoch 17/50\n",
      "48000/48000 [==============================] - 3s 73us/step - loss: 0.1171 - acc: 0.9571 - val_loss: 0.1768 - val_acc: 0.9427\n",
      "Epoch 18/50\n",
      "48000/48000 [==============================] - 4s 74us/step - loss: 0.1065 - acc: 0.9602 - val_loss: 0.1910 - val_acc: 0.9411\n",
      "Epoch 19/50\n",
      "48000/48000 [==============================] - 4s 73us/step - loss: 0.1078 - acc: 0.9600 - val_loss: 0.1937 - val_acc: 0.9334\n",
      "Epoch 20/50\n",
      "48000/48000 [==============================] - 4s 74us/step - loss: 0.1011 - acc: 0.9619 - val_loss: 0.1893 - val_acc: 0.9416\n",
      "Epoch 21/50\n",
      "48000/48000 [==============================] - 3s 73us/step - loss: 0.0995 - acc: 0.9620 - val_loss: 0.1841 - val_acc: 0.9409\n",
      "Epoch 22/50\n",
      "48000/48000 [==============================] - 3s 72us/step - loss: 0.0942 - acc: 0.9641 - val_loss: 0.1924 - val_acc: 0.9390\n",
      "Epoch 23/50\n",
      "48000/48000 [==============================] - 4s 73us/step - loss: 0.0876 - acc: 0.9669 - val_loss: 0.1986 - val_acc: 0.9416\n",
      "Epoch 24/50\n",
      "48000/48000 [==============================] - 3s 72us/step - loss: 0.0881 - acc: 0.9672 - val_loss: 0.1872 - val_acc: 0.9417\n",
      "Epoch 25/50\n",
      "48000/48000 [==============================] - 3s 72us/step - loss: 0.0798 - acc: 0.9699 - val_loss: 0.2166 - val_acc: 0.9379\n",
      "Epoch 26/50\n",
      "48000/48000 [==============================] - 3s 72us/step - loss: 0.0774 - acc: 0.9707 - val_loss: 0.1937 - val_acc: 0.9419\n",
      "Epoch 27/50\n",
      "48000/48000 [==============================] - 3s 72us/step - loss: 0.0743 - acc: 0.9729 - val_loss: 0.1955 - val_acc: 0.9422\n",
      "Epoch 28/50\n",
      "48000/48000 [==============================] - 3s 72us/step - loss: 0.0691 - acc: 0.9743 - val_loss: 0.1949 - val_acc: 0.9428\n",
      "Epoch 29/50\n",
      "48000/48000 [==============================] - 3s 73us/step - loss: 0.0704 - acc: 0.9736 - val_loss: 0.2040 - val_acc: 0.9415\n",
      "Epoch 30/50\n",
      "48000/48000 [==============================] - 3s 72us/step - loss: 0.0703 - acc: 0.9730 - val_loss: 0.1981 - val_acc: 0.9432\n",
      "Epoch 31/50\n",
      "48000/48000 [==============================] - 3s 72us/step - loss: 0.0675 - acc: 0.9748 - val_loss: 0.2040 - val_acc: 0.9422\n",
      "Epoch 32/50\n",
      "48000/48000 [==============================] - 3s 72us/step - loss: 0.0641 - acc: 0.9759 - val_loss: 0.2129 - val_acc: 0.9391\n",
      "Epoch 33/50\n",
      "48000/48000 [==============================] - 3s 72us/step - loss: 0.0595 - acc: 0.9784 - val_loss: 0.1978 - val_acc: 0.9447\n",
      "Epoch 34/50\n",
      "48000/48000 [==============================] - 3s 72us/step - loss: 0.0570 - acc: 0.9788 - val_loss: 0.2085 - val_acc: 0.9439\n",
      "Epoch 35/50\n",
      "48000/48000 [==============================] - 3s 72us/step - loss: 0.0565 - acc: 0.9786 - val_loss: 0.2534 - val_acc: 0.9379\n",
      "Epoch 36/50\n",
      "48000/48000 [==============================] - 3s 72us/step - loss: 0.0531 - acc: 0.9806 - val_loss: 0.2205 - val_acc: 0.9418\n",
      "Epoch 37/50\n",
      "48000/48000 [==============================] - 3s 72us/step - loss: 0.0526 - acc: 0.9806 - val_loss: 0.2183 - val_acc: 0.9440\n",
      "Epoch 38/50\n",
      "48000/48000 [==============================] - 3s 72us/step - loss: 0.0533 - acc: 0.9801 - val_loss: 0.2367 - val_acc: 0.9392\n",
      "Epoch 39/50\n",
      "48000/48000 [==============================] - 3s 72us/step - loss: 0.0532 - acc: 0.9802 - val_loss: 0.2222 - val_acc: 0.9435\n",
      "Epoch 40/50\n",
      "48000/48000 [==============================] - 3s 72us/step - loss: 0.0493 - acc: 0.9818 - val_loss: 0.2277 - val_acc: 0.9421\n",
      "Epoch 41/50\n",
      "48000/48000 [==============================] - 3s 72us/step - loss: 0.0506 - acc: 0.9814 - val_loss: 0.2119 - val_acc: 0.9443\n",
      "Epoch 42/50\n",
      "48000/48000 [==============================] - 3s 72us/step - loss: 0.0478 - acc: 0.9819 - val_loss: 0.2090 - val_acc: 0.9434\n",
      "Epoch 43/50\n",
      "48000/48000 [==============================] - 3s 72us/step - loss: 0.0459 - acc: 0.9830 - val_loss: 0.2339 - val_acc: 0.9413\n",
      "Epoch 44/50\n",
      "48000/48000 [==============================] - 3s 72us/step - loss: 0.0437 - acc: 0.9842 - val_loss: 0.2210 - val_acc: 0.9460\n",
      "Epoch 45/50\n",
      "48000/48000 [==============================] - 3s 72us/step - loss: 0.0440 - acc: 0.9841 - val_loss: 0.2262 - val_acc: 0.9450\n",
      "Epoch 46/50\n",
      "48000/48000 [==============================] - 3s 72us/step - loss: 0.0438 - acc: 0.9845 - val_loss: 0.2371 - val_acc: 0.9431\n",
      "Epoch 47/50\n",
      "48000/48000 [==============================] - 3s 73us/step - loss: 0.0438 - acc: 0.9838 - val_loss: 0.2284 - val_acc: 0.9413\n",
      "Epoch 48/50\n",
      "48000/48000 [==============================] - 3s 73us/step - loss: 0.0386 - acc: 0.9860 - val_loss: 0.2365 - val_acc: 0.9413\n",
      "Epoch 49/50\n",
      "48000/48000 [==============================] - 3s 72us/step - loss: 0.0438 - acc: 0.9845 - val_loss: 0.2216 - val_acc: 0.9450\n",
      "Epoch 50/50\n",
      "48000/48000 [==============================] - 3s 72us/step - loss: 0.0370 - acc: 0.9867 - val_loss: 0.2249 - val_acc: 0.9444\n"
     ]
    },
    {
     "data": {
      "text/plain": [
       "<keras.callbacks.History at 0x7fd53f8cde10>"
      ]
     },
     "execution_count": 29,
     "metadata": {},
     "output_type": "execute_result"
    }
   ],
   "source": [
    "model.fit(x_train, y_train, batch_size=batch_size, epochs=epochs,verbose=1,validation_data=(x_test, y_test))"
   ]
  },
  {
   "cell_type": "code",
   "execution_count": 30,
   "metadata": {},
   "outputs": [
    {
     "name": "stdout",
     "output_type": "stream",
     "text": [
      "Test loss: 0.22490728691173717\n",
      "Test accuracy: 0.9444166666666667\n"
     ]
    }
   ],
   "source": [
    "score = model.evaluate(x_test, y_test, verbose=0)\n",
    "print('Test loss:', score[0])\n",
    "print('Test accuracy:', score[1])"
   ]
  },
  {
   "cell_type": "code",
   "execution_count": 31,
   "metadata": {},
   "outputs": [
    {
     "name": "stdout",
     "output_type": "stream",
     "text": [
      "(10000, 28, 28)\n"
     ]
    }
   ],
   "source": [
    "print(test.shape)"
   ]
  },
  {
   "cell_type": "code",
   "execution_count": 32,
   "metadata": {},
   "outputs": [],
   "source": [
    "f_test = test.reshape(test.shape[0], *(28, 28, 1))"
   ]
  },
  {
   "cell_type": "code",
   "execution_count": 33,
   "metadata": {},
   "outputs": [
    {
     "name": "stdout",
     "output_type": "stream",
     "text": [
      "(10000, 28, 28, 1)\n"
     ]
    }
   ],
   "source": [
    "print(f_test.shape)"
   ]
  },
  {
   "cell_type": "code",
   "execution_count": 34,
   "metadata": {},
   "outputs": [
    {
     "name": "stdout",
     "output_type": "stream",
     "text": [
      "f_test shape: (10000, 28, 28, 1)\n"
     ]
    }
   ],
   "source": [
    "f_test=f_test.astype('float32')\n",
    "f_test/=255\n",
    "print('f_test shape:',f_test.shape)"
   ]
  },
  {
   "cell_type": "markdown",
   "metadata": {},
   "source": [
    "# Predicting on testX.pickle"
   ]
  },
  {
   "cell_type": "code",
   "execution_count": 35,
   "metadata": {},
   "outputs": [],
   "source": [
    "y_pred = model.predict_classes(f_test)"
   ]
  },
  {
   "cell_type": "code",
   "execution_count": 36,
   "metadata": {},
   "outputs": [
    {
     "name": "stdout",
     "output_type": "stream",
     "text": [
      "9\n"
     ]
    },
    {
     "data": {
      "image/png": "[encoded data removed]",
      "text/plain": [
       "<Figure size 432x288 with 1 Axes>"
      ]
     },
     "metadata": {
      "needs_background": "light"
     },
     "output_type": "display_data"
    },
    {
     "name": "stdout",
     "output_type": "stream",
     "text": [
      "2\n"
     ]
    },
    {
     "data": {
      "image/png": "[encoded data removed]",
      "text/plain": [
       "<Figure size 432x288 with 1 Axes>"
      ]
     },
     "metadata": {
      "needs_background": "light"
     },
     "output_type": "display_data"
    }
   ],
   "source": [
    "for i in range(2):\n",
    "    print(y_pred[i])\n",
    "    plt.imshow(test[i])\n",
    "    plt.show()"
   ]
  },
  {
   "cell_type": "code",
   "execution_count": 37,
   "metadata": {},
   "outputs": [],
   "source": [
    "pd.to_pickle(y_pred,\"final_answer.pickle\")"
   ]
  },
  {
   "cell_type": "code",
   "execution_count": 39,
   "metadata": {},
   "outputs": [],
   "source": [
    "d=pd.read_pickle(\"final_answer.pickle\")"
   ]
  },
  {
   "cell_type": "code",
   "execution_count": 40,
   "metadata": {},
   "outputs": [
    {
     "data": {
      "text/plain": [
       "array([9, 2, 1, 1, 6, 1, 4, 6, 5, 7])"
      ]
     },
     "execution_count": 40,
     "metadata": {},
     "output_type": "execute_result"
    }
   ],
   "source": [
    "d[:10]"
   ]
  },
  {
   "cell_type": "code",
   "execution_count": null,
   "metadata": {},
   "outputs": [],
   "source": []
  }
 ],
 "metadata": {
  "kernelspec": {
   "display_name": "Python 3",
   "language": "python",
   "name": "python3"
  },
  "language_info": {
   "codemirror_mode": {
    "name": "ipython",
    "version": 3
   },
   "file_extension": ".py",
   "mimetype": "text/x-python",
   "name": "python",
   "nbconvert_exporter": "python",
   "pygments_lexer": "ipython3",
   "version": "3.6.5"
  }
 },
 "nbformat": 4,
 "nbformat_minor": 1
}
